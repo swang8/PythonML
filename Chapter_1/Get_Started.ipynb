{
 "cells": [
  {
   "cell_type": "markdown",
   "metadata": {},
   "source": [
    "## Getting Started with Python Machine Learning\n",
    "Machine learning teaches machines how to carry out tasks by themselves.\n",
    "#### Machine learning and Python, the dream team\n",
    "The process of coming up with a decent ML approach is never a waterfall-like process. Instead, you will see yourself going back and forth in your analysis, trying out different versions of your input data on diverse sets of ML algorithms. **It is this explorative nature that lends itself perfectly to Python.**\n",
    "#### What the book will cover\n",
    "This book will give you a broad overview of the types of learning algorithms that\n",
    "are currently used in the diverse  elds of machine learning and what to watch out for when applying them. \n",
    "In reality, most of the time will be spent in rather mundane tasks:\n",
    "\n",
    "1. Reading the data and cleaning it.\n",
    "2. Exploring and understanding the input data.\n",
    "3. Analyzing how best to present the data to the learning algorithm.\n",
    "4. Choosing the right model and learning algorithm.\n",
    "5. Measuring the performance correctly.\n",
    "\n",
    "Often you will not feed your data directly into your ML algorithms.Instead, you will  nd that you can re ne parts of the data before training. Many times, the machine learning algorithm will reward you with increased performance. You will even  nd that a simple algorithm with re ned data generally outperforms a very sophisticated algorithm with raw data. This part of the machine learning work ow is called **feature engineering**, and it is generally a very exciting and rewarding challenge. Creative and intelligent that you are, you will immediately see the results.\n",
    "#### What to do when stuck\n",
    "Google is your best friend.\n",
    "\n",
    "### Introduction to NumPy, SciPy, and Matplotlib\n",
    "\n",
    "#### Installing Python\n",
    "Recommends: [annoconda]() or [miniconda](), in general [conda]()\n",
    "\n",
    "#### Chewing data ef ciently with NumPy and intelligently with SciPy\n",
    "#### Learning Numpy"
   ]
  },
  {
   "cell_type": "code",
   "execution_count": 47,
   "metadata": {
    "collapsed": false
   },
   "outputs": [
    {
     "data": {
      "text/plain": [
       "'1.11.3'"
      ]
     },
     "execution_count": 47,
     "metadata": {},
     "output_type": "execute_result"
    }
   ],
   "source": [
    "import numpy as np\n",
    "np.version.full_version"
   ]
  },
  {
   "cell_type": "code",
   "execution_count": 48,
   "metadata": {
    "collapsed": false
   },
   "outputs": [
    {
     "name": "stdout",
     "output_type": "stream",
     "text": [
      "[0 1 2 3 4 5]\n",
      "1\n",
      "(6,)\n"
     ]
    }
   ],
   "source": [
    "a = np.array([0,1,2,3,4,5])\n",
    "print(a)\n",
    "print(a.ndim)\n",
    "print(a.shape)"
   ]
  },
  {
   "cell_type": "markdown",
   "metadata": {},
   "source": [
    "Attention:\n",
    "```python\n",
    "a = np.array(0, 1, 2, 3) ## Wrong\n",
    "a = np.array([0, 1,2, 3]) ## correct\n",
    "```"
   ]
  },
  {
   "cell_type": "markdown",
   "metadata": {},
   "source": [
    "*a* is one-dimention\n",
    "try the *reshape* fucniton"
   ]
  },
  {
   "cell_type": "code",
   "execution_count": 49,
   "metadata": {
    "collapsed": false
   },
   "outputs": [
    {
     "name": "stdout",
     "output_type": "stream",
     "text": [
      "[[0 1]\n",
      " [2 3]\n",
      " [4 5]]\n",
      "2\n",
      "(3, 2)\n",
      "3\n"
     ]
    }
   ],
   "source": [
    "b = a.reshape(3, 2) ## 3 rows and 2 cols\n",
    "print(b)\n",
    "print(b.ndim)\n",
    "print(b.shape)\n",
    "print(b[1,1]) ## shall print 3"
   ]
  },
  {
   "cell_type": "markdown",
   "metadata": {},
   "source": [
    "Watch out this: *a* and *b* are the same object, which means if you modify *a*, you are modifing *b* simutaneously."
   ]
  },
  {
   "cell_type": "code",
   "execution_count": 50,
   "metadata": {
    "collapsed": false
   },
   "outputs": [
    {
     "name": "stdout",
     "output_type": "stream",
     "text": [
      "[[0 1]\n",
      " [2 3]\n",
      " [4 5]]\n",
      "[[ 0  1]\n",
      " [ 2 30]\n",
      " [ 4  5]]\n"
     ]
    }
   ],
   "source": [
    "print(b)\n",
    "a[3] = 30\n",
    "print(b)"
   ]
  },
  {
   "cell_type": "markdown",
   "metadata": {},
   "source": [
    "To have a **TURE** copy:"
   ]
  },
  {
   "cell_type": "code",
   "execution_count": 51,
   "metadata": {
    "collapsed": false
   },
   "outputs": [
    {
     "name": "stdout",
     "output_type": "stream",
     "text": [
      "[[ 0  1]\n",
      " [ 2 30]\n",
      " [ 4  5]]\n",
      "[[   0    1]\n",
      " [   2 1000]\n",
      " [   4    5]]\n",
      "[ 0  1  2 30  4  5]\n"
     ]
    }
   ],
   "source": [
    "c = a.reshape(3,2).copy()\n",
    "print(c)\n",
    "c[1,1] = 1000\n",
    "print(c)\n",
    "print(a)"
   ]
  },
  {
   "cell_type": "code",
   "execution_count": 52,
   "metadata": {
    "collapsed": false
   },
   "outputs": [
    {
     "name": "stdout",
     "output_type": "stream",
     "text": [
      "[ 0  2  4 60  8 10]\n",
      "[1, 2, 3, 1, 2, 3]\n"
     ]
    }
   ],
   "source": [
    "print(a * 2)\n",
    "## if ordinary python\n",
    "print([1,2,3] * 2)"
   ]
  },
  {
   "cell_type": "code",
   "execution_count": 53,
   "metadata": {
    "collapsed": false
   },
   "outputs": [
    {
     "name": "stdout",
     "output_type": "stream",
     "text": [
      "[  0   1   4 900  16  25]\n"
     ]
    }
   ],
   "source": [
    "print(a ** 2)"
   ]
  },
  {
   "cell_type": "markdown",
   "metadata": {},
   "source": [
    "##### Indexing"
   ]
  },
  {
   "cell_type": "code",
   "execution_count": 54,
   "metadata": {
    "collapsed": false
   },
   "outputs": [
    {
     "name": "stdout",
     "output_type": "stream",
     "text": [
      "[ 0  1  2 30  4  5]\n",
      "[ 2 30  4]\n",
      "[ 2 30  4]\n"
     ]
    }
   ],
   "source": [
    "print(a)\n",
    "print(a[np.array([2,3,4])])\n",
    "## print(a[2,3,4])  ## will not work\n",
    "## print(a[(2,3,4)])  ## will not work\n",
    "print(a[[2,3,4]])"
   ]
  },
  {
   "cell_type": "markdown",
   "metadata": {},
   "source": [
    "##### handling non-existing values"
   ]
  },
  {
   "cell_type": "code",
   "execution_count": 55,
   "metadata": {
    "collapsed": false
   },
   "outputs": [
    {
     "name": "stdout",
     "output_type": "stream",
     "text": [
      "[  1.   2.  nan   3.   4.]\n",
      "[False False  True False False]\n"
     ]
    }
   ],
   "source": [
    "c = np.array([1, 2, np.NAN, 3, 4])\n",
    "print(c)\n",
    "print(np.isnan(c))"
   ]
  },
  {
   "cell_type": "code",
   "execution_count": 56,
   "metadata": {
    "collapsed": false
   },
   "outputs": [
    {
     "name": "stdout",
     "output_type": "stream",
     "text": [
      "[ 1.  2.  3.  4.]\n",
      "2.5\n"
     ]
    }
   ],
   "source": [
    "print(c[~np.isnan(c)])\n",
    "print(np.mean(c[~np.isnan(c)]))"
   ]
  },
  {
   "cell_type": "markdown",
   "metadata": {},
   "source": [
    "##### compare runtime behaviors"
   ]
  },
  {
   "cell_type": "code",
   "execution_count": 57,
   "metadata": {
    "collapsed": false
   },
   "outputs": [
    {
     "name": "stdout",
     "output_type": "stream",
     "text": [
      "Normal Python: 1.328249 sec\n",
      "Naive NumPy: 0.910891 sec\n",
      "Good NumPy: 0.014344 sec\n"
     ]
    }
   ],
   "source": [
    "import timeit\n",
    "normal_py_sec = timeit.timeit('sum(x*x for x in range(1000))', number=10000)\n",
    "naive_np_sec = timeit.timeit('sum(na*na)',\n",
    "                             setup=\"import numpy as np; na=np.arange(1000)\",\n",
    "                             number=10000)\n",
    "good_np_sec = timeit.timeit('na.dot(na)',\n",
    "                            setup=\"import numpy as np; na=np.arange(1000)\",\n",
    "                            number=10000)\n",
    "print(\"Normal Python: %f sec\"%normal_py_sec)\n",
    "print(\"Naive NumPy: %f sec\"%naive_np_sec)\n",
    "print(\"Good NumPy: %f sec\"%good_np_sec)\n"
   ]
  },
  {
   "cell_type": "code",
   "execution_count": null,
   "metadata": {
    "collapsed": true
   },
   "outputs": [],
   "source": []
  }
 ],
 "metadata": {
  "kernelspec": {
   "display_name": "Python 3",
   "language": "python",
   "name": "python3"
  },
  "language_info": {
   "codemirror_mode": {
    "name": "ipython",
    "version": 3
   },
   "file_extension": ".py",
   "mimetype": "text/x-python",
   "name": "python",
   "nbconvert_exporter": "python",
   "pygments_lexer": "ipython3",
   "version": "3.6.0"
  }
 },
 "nbformat": 4,
 "nbformat_minor": 2
}
